{
 "cells": [
  {
   "cell_type": "markdown",
   "metadata": {},
   "source": [
    "<img style=\"float: left; margin: 30px 15px 15px 15px;\" src=\"https://pngimage.net/wp-content/uploads/2018/06/logo-iteso-png-5.png\" width=\"300\" height=\"500\" /> \n",
    "    \n",
    "    \n",
    "### <font color='navy'> Simulación de procesos financieros. \n",
    "\n",
    "**Nombres:**  Espinosa García Lyha, Navarro Valencia Dayana, Vazquez Vargas Ana Cristina \n",
    "\n",
    "**Fecha:** 19 de Marzo del 2021.\n",
    "\n",
    "**Expediente** : 721470 , 721861 , 721215\n",
    "\n",
    "**Profesor:** Oscar David Jaramillo Zuluaga.\n",
    "    \n",
    "**Link Github**: https://github.com/ACristinaVV/Proyecto_Avocado.git\n",
    "\n"
   ]
  },
  {
   "cell_type": "markdown",
   "metadata": {},
   "source": [
    "# <center> ![Proyecto SPF](avocado.jpg) Proyecto SPF\n",
    "    "
   ]
  },
  {
   "cell_type": "markdown",
   "metadata": {},
   "source": [
    "### 1.1 Simulación Montecarlo aplicada a las ventas de aguacates.\n",
    "  \n",
    "\n",
    "\n",
    "### 1.2 Objetivos.\n",
    "> #### 1.1 Objetivo general.\n",
    ">  - Proyectar los diferentes escenarios relacionados con las ventas de aguacates. \n",
    "\n",
    "> #### 1.2 Objetivos específicos\n",
    ">  - Aplicar simulación montecarlo para conocer la mejor temporada para vender aguacates.   \n",
    ">  - Encontrar por medio de las simulaciones el tipo de aguacate que es más conveniente vender.   \n",
    ">  - Estimar y proyectar el precio promedio de una pieza de aguacate.   \n",
    ">  - Analizar el comportamiento de las ventas totales.  \n",
    "\n",
    "\n",
    "### 1.3 Definición del problema.\n",
    "\n",
    "Considerada la estrella del campo mexicano, el aguacate es uno de los frutos preferidos de la cocina internacional. Países como Estados Unidos, Canadá, China y la Unión Europea son grandes consumidores de aguacate. Para estimar la importancia en el mundo de este alimento, el Servicio Nacional de Sanidad, Inocuidad y Calidad Agroalimentaria (SENASICA) estima que en el mundo 1 de cada 3 aguacates se cosechan en México.\n",
    "\n",
    "Los productores nacionales apuestan al mercado americano ya que es su principal comprador a nivel internacional. Es por esto que la base de datos que encontramos nos pareció interesante y de gran utilidad puesto que en base a ella simularemos el comportamiento de este producto en el mercado, y que mejor referente que su principal consumidor.  \n",
    "\n",
    "El escenario que deseamos proyectar es el de las ventas de aguacates en Estados Unidos basándonos en la información que proporcionaba nuestra base de datos.\n",
    "\n",
    "Nuestro propósito con este proyecto es analizar la base de datos, obtener su función de probabilidad, aplicar simulación montecarlo y dar una opinión informada a un inversionista en este negocio. \n",
    "\n",
    "Las variables (columnas) que utilizaremos para este estudio son: Fecha, Ventas totales, Precio promedio, Ventas por tipo. \n",
    "\n",
    "\n",
    "\n",
    "### 1.4 Nodos y variables que se decidieron simular y porqué\n",
    "Para este proyecto en particular los nodos que hemos decidido simular son: \n",
    "> - Ventas totales   \n",
    "> - Temporalidad   \n",
    "> - Precio promedio  \n",
    "> - Clasificación     \n",
    "\n",
    "El objetivo de simular las **ventas totales** es analizar como fluctua el volumen de ventas. Lo que esperamos es proyectar las ventas de aguacate para el próximo año. \n",
    "\n",
    "Al simular la **temporalidad** podemos obtener cual es la temporada en la que se espera mayor cantidad de ventas totales \n",
    "\n",
    "Decidimos simular el **precio promedio** debido a que de esta manera podemos conocer su comportamiento, que tan volátil es, así como cual es la probabilidad de que el precio del aguacate suba a más de 2 dólares por unidad\n",
    "\n",
    "Con la simulaciones de la **clasificación** de los aguacates buscamos encontrar cuál tipo es el que se espera que tenga mayores ventas, esto nos sirve para identificar el mercado más próspero.    \n",
    "\n",
    "#### Esquema \n",
    "\n"
   ]
  },
  {
   "cell_type": "markdown",
   "metadata": {},
   "source": [
    "<img src=\"AVOCADO.png\">"
   ]
  },
  {
   "cell_type": "markdown",
   "metadata": {},
   "source": [
    "### 1.5 Definición de hipótesis y supuestos.\n",
    "\n",
    "#### Supuestos:\n",
    "\n",
    "- Suponemos que los datos presentado son reales\n",
    "- Si se realiza un negocio será dentro de condiciones regulares\n",
    "- La información presentada es correcta y confiable\n",
    "- Como moneda se utilizará el dolar estadounidense\n",
    "- Las variables decididas son las mejores variables para modelar el comportamiento de las ventas de aguacate\n",
    "\n",
    "#### Hipótesis\n",
    "\n",
    "- La venta de aguacate tiene cierta temporalidad (Altas ventas de Octubre a Enero), no obstante el producto se oferta constantemente durante todo el año. \n",
    "\n",
    "- El precio fluctúa dependiendo de la temporada\n",
    "\n",
    "- El tipo de aguacate más popular es el 4225-Large Hass "
   ]
  },
  {
   "cell_type": "markdown",
   "metadata": {},
   "source": [
    "### 1.6 Obtencion Base de Datos\n",
    "\n",
    "La base de datos a utilizar la obtivimos de la plataforma Kaggle, la cual ofrece una amplia cantidad de data sets para su posterior análisis. \n",
    "Fue en esta página que encontramos información sobres las ventas de aguacates.\n",
    "La base de datos se compone de los siguientes\n",
    " • Año\n",
    " • fecha de la observación semanal\n",
    " • Ventas totales\n",
    " • Precio Promedio\n",
    " • Ventas por tipo de aguacate \n",
    " • Ventas por tipo de bolsa \n",
    " \n",
    " La base de datos con la que contamos nos ofrece información semanal sobre:\n",
    "> - Ventas totales: la cantidad de piezas de aguacate vendidas en total.   \n",
    "> - Ventas por tipo de aguacate:  la cantidad de piezas vendidas por cada tipo de aguacate (4046 - Small Hass, 4225 - Large Hass, 4770 - Extra large Hass)   \n",
    "> - Ventas por tipo de bolsas: el total de bolsas vendidas (Small / Large)   \n",
    "> - Precio promedio: el precio promedio por pieza de aguacate (sin importar el tipo)    \n",
    "> - Fecha: observación por semana   \n",
    "> - Año: año de la observación    \n",
    "> - Región: ciudad o región de la observación   \n",
    " \n",
    "La problematica que buscamos solucionar, es darnos una idea clara de como es que funcionan las ventas de aguacates y porque sería un buen producto para invertir\n",
    "\n",
    "[Liga a la base de datos](https://www.kaggle.com/neuromusic/avocado-prices)\n",
    "\n"
   ]
  },
  {
   "cell_type": "markdown",
   "metadata": {},
   "source": [
    "### Librerías a utilizar"
   ]
  },
  {
   "cell_type": "code",
   "execution_count": 155,
   "metadata": {},
   "outputs": [],
   "source": [
    "import pandas as pd\n",
    "import numpy as np\n",
    "from scipy.stats import gaussian_kde\n",
    "from scipy import optimize\n",
    "import scipy.stats as st     \n",
    "import statsmodels.api as sm \n",
    "import seaborn as sns\n",
    "import scipy.stats as ss\n",
    "%matplotlib inline\n",
    "import matplotlib.pyplot as plt"
   ]
  },
  {
   "cell_type": "code",
   "execution_count": 156,
   "metadata": {},
   "outputs": [
    {
     "data": {
      "text/html": [
       "<div>\n",
       "<style scoped>\n",
       "    .dataframe tbody tr th:only-of-type {\n",
       "        vertical-align: middle;\n",
       "    }\n",
       "\n",
       "    .dataframe tbody tr th {\n",
       "        vertical-align: top;\n",
       "    }\n",
       "\n",
       "    .dataframe thead th {\n",
       "        text-align: right;\n",
       "    }\n",
       "</style>\n",
       "<table border=\"1\" class=\"dataframe\">\n",
       "  <thead>\n",
       "    <tr style=\"text-align: right;\">\n",
       "      <th></th>\n",
       "      <th>Week</th>\n",
       "      <th>AveragePrice</th>\n",
       "      <th>Total Volume</th>\n",
       "      <th>4046</th>\n",
       "      <th>4225</th>\n",
       "      <th>4770</th>\n",
       "      <th>Total Bags</th>\n",
       "      <th>Small Bags</th>\n",
       "      <th>Large Bags</th>\n",
       "      <th>XLarge Bags</th>\n",
       "      <th>type</th>\n",
       "      <th>year</th>\n",
       "      <th>region</th>\n",
       "    </tr>\n",
       "    <tr>\n",
       "      <th>Date</th>\n",
       "      <th></th>\n",
       "      <th></th>\n",
       "      <th></th>\n",
       "      <th></th>\n",
       "      <th></th>\n",
       "      <th></th>\n",
       "      <th></th>\n",
       "      <th></th>\n",
       "      <th></th>\n",
       "      <th></th>\n",
       "      <th></th>\n",
       "      <th></th>\n",
       "      <th></th>\n",
       "    </tr>\n",
       "  </thead>\n",
       "  <tbody>\n",
       "    <tr>\n",
       "      <th>27/12/2015</th>\n",
       "      <td>0</td>\n",
       "      <td>1.33</td>\n",
       "      <td>64236.62</td>\n",
       "      <td>1036.74</td>\n",
       "      <td>54454.85</td>\n",
       "      <td>48.16</td>\n",
       "      <td>8696.87</td>\n",
       "      <td>8603.62</td>\n",
       "      <td>93.25</td>\n",
       "      <td>0.0</td>\n",
       "      <td>conventional</td>\n",
       "      <td>2015</td>\n",
       "      <td>Albany</td>\n",
       "    </tr>\n",
       "    <tr>\n",
       "      <th>20/12/2015</th>\n",
       "      <td>1</td>\n",
       "      <td>1.35</td>\n",
       "      <td>54876.98</td>\n",
       "      <td>674.28</td>\n",
       "      <td>44638.81</td>\n",
       "      <td>58.33</td>\n",
       "      <td>9505.56</td>\n",
       "      <td>9408.07</td>\n",
       "      <td>97.49</td>\n",
       "      <td>0.0</td>\n",
       "      <td>conventional</td>\n",
       "      <td>2015</td>\n",
       "      <td>Albany</td>\n",
       "    </tr>\n",
       "    <tr>\n",
       "      <th>13/12/2015</th>\n",
       "      <td>2</td>\n",
       "      <td>0.93</td>\n",
       "      <td>118220.22</td>\n",
       "      <td>794.70</td>\n",
       "      <td>109149.67</td>\n",
       "      <td>130.50</td>\n",
       "      <td>8145.35</td>\n",
       "      <td>8042.21</td>\n",
       "      <td>103.14</td>\n",
       "      <td>0.0</td>\n",
       "      <td>conventional</td>\n",
       "      <td>2015</td>\n",
       "      <td>Albany</td>\n",
       "    </tr>\n",
       "    <tr>\n",
       "      <th>06/12/2015</th>\n",
       "      <td>3</td>\n",
       "      <td>1.08</td>\n",
       "      <td>78992.15</td>\n",
       "      <td>1132.00</td>\n",
       "      <td>71976.41</td>\n",
       "      <td>72.58</td>\n",
       "      <td>5811.16</td>\n",
       "      <td>5677.40</td>\n",
       "      <td>133.76</td>\n",
       "      <td>0.0</td>\n",
       "      <td>conventional</td>\n",
       "      <td>2015</td>\n",
       "      <td>Albany</td>\n",
       "    </tr>\n",
       "    <tr>\n",
       "      <th>29/11/2015</th>\n",
       "      <td>4</td>\n",
       "      <td>1.28</td>\n",
       "      <td>51039.60</td>\n",
       "      <td>941.48</td>\n",
       "      <td>43838.39</td>\n",
       "      <td>75.78</td>\n",
       "      <td>6183.95</td>\n",
       "      <td>5986.26</td>\n",
       "      <td>197.69</td>\n",
       "      <td>0.0</td>\n",
       "      <td>conventional</td>\n",
       "      <td>2015</td>\n",
       "      <td>Albany</td>\n",
       "    </tr>\n",
       "  </tbody>\n",
       "</table>\n",
       "</div>"
      ],
      "text/plain": [
       "            Week   AveragePrice  Total Volume     4046       4225    4770  \\\n",
       "Date                                                                        \n",
       "27/12/2015      0          1.33      64236.62  1036.74   54454.85   48.16   \n",
       "20/12/2015      1          1.35      54876.98   674.28   44638.81   58.33   \n",
       "13/12/2015      2          0.93     118220.22   794.70  109149.67  130.50   \n",
       "06/12/2015      3          1.08      78992.15  1132.00   71976.41   72.58   \n",
       "29/11/2015      4          1.28      51039.60   941.48   43838.39   75.78   \n",
       "\n",
       "            Total Bags  Small Bags  Large Bags  XLarge Bags          type  \\\n",
       "Date                                                                        \n",
       "27/12/2015     8696.87     8603.62       93.25          0.0  conventional   \n",
       "20/12/2015     9505.56     9408.07       97.49          0.0  conventional   \n",
       "13/12/2015     8145.35     8042.21      103.14          0.0  conventional   \n",
       "06/12/2015     5811.16     5677.40      133.76          0.0  conventional   \n",
       "29/11/2015     6183.95     5986.26      197.69          0.0  conventional   \n",
       "\n",
       "            year  region  \n",
       "Date                      \n",
       "27/12/2015  2015  Albany  \n",
       "20/12/2015  2015  Albany  \n",
       "13/12/2015  2015  Albany  \n",
       "06/12/2015  2015  Albany  \n",
       "29/11/2015  2015  Albany  "
      ]
     },
     "execution_count": 156,
     "metadata": {},
     "output_type": "execute_result"
    }
   ],
   "source": [
    "data = pd.read_csv('BaseDatos.csv')\n",
    "\n",
    "data.set_index('Date', inplace=True)\n",
    "data.head()"
   ]
  },
  {
   "cell_type": "markdown",
   "metadata": {},
   "source": [
    "#### BASE DE DATOS LIMPIA"
   ]
  },
  {
   "cell_type": "code",
   "execution_count": 157,
   "metadata": {},
   "outputs": [],
   "source": [
    "data.drop([\"Total Bags\", \"Large Bags\",\"XLarge Bags\", 'type', 'year'], axis = 1, inplace = True) "
   ]
  },
  {
   "cell_type": "code",
   "execution_count": 158,
   "metadata": {},
   "outputs": [
    {
     "data": {
      "text/html": [
       "<div>\n",
       "<style scoped>\n",
       "    .dataframe tbody tr th:only-of-type {\n",
       "        vertical-align: middle;\n",
       "    }\n",
       "\n",
       "    .dataframe tbody tr th {\n",
       "        vertical-align: top;\n",
       "    }\n",
       "\n",
       "    .dataframe thead th {\n",
       "        text-align: right;\n",
       "    }\n",
       "</style>\n",
       "<table border=\"1\" class=\"dataframe\">\n",
       "  <thead>\n",
       "    <tr style=\"text-align: right;\">\n",
       "      <th></th>\n",
       "      <th>Week</th>\n",
       "      <th>AveragePrice</th>\n",
       "      <th>Total Volume</th>\n",
       "      <th>Small Hass</th>\n",
       "      <th>Large Hass</th>\n",
       "      <th>Extra Large Hass</th>\n",
       "      <th>Small Bags</th>\n",
       "      <th>region</th>\n",
       "    </tr>\n",
       "    <tr>\n",
       "      <th>Date</th>\n",
       "      <th></th>\n",
       "      <th></th>\n",
       "      <th></th>\n",
       "      <th></th>\n",
       "      <th></th>\n",
       "      <th></th>\n",
       "      <th></th>\n",
       "      <th></th>\n",
       "    </tr>\n",
       "  </thead>\n",
       "  <tbody>\n",
       "    <tr>\n",
       "      <th>27/12/2015</th>\n",
       "      <td>0</td>\n",
       "      <td>1.33</td>\n",
       "      <td>64236.62</td>\n",
       "      <td>1036.74</td>\n",
       "      <td>54454.85</td>\n",
       "      <td>48.16</td>\n",
       "      <td>8603.62</td>\n",
       "      <td>Albany</td>\n",
       "    </tr>\n",
       "    <tr>\n",
       "      <th>20/12/2015</th>\n",
       "      <td>1</td>\n",
       "      <td>1.35</td>\n",
       "      <td>54876.98</td>\n",
       "      <td>674.28</td>\n",
       "      <td>44638.81</td>\n",
       "      <td>58.33</td>\n",
       "      <td>9408.07</td>\n",
       "      <td>Albany</td>\n",
       "    </tr>\n",
       "    <tr>\n",
       "      <th>13/12/2015</th>\n",
       "      <td>2</td>\n",
       "      <td>0.93</td>\n",
       "      <td>118220.22</td>\n",
       "      <td>794.70</td>\n",
       "      <td>109149.67</td>\n",
       "      <td>130.50</td>\n",
       "      <td>8042.21</td>\n",
       "      <td>Albany</td>\n",
       "    </tr>\n",
       "    <tr>\n",
       "      <th>06/12/2015</th>\n",
       "      <td>3</td>\n",
       "      <td>1.08</td>\n",
       "      <td>78992.15</td>\n",
       "      <td>1132.00</td>\n",
       "      <td>71976.41</td>\n",
       "      <td>72.58</td>\n",
       "      <td>5677.40</td>\n",
       "      <td>Albany</td>\n",
       "    </tr>\n",
       "    <tr>\n",
       "      <th>29/11/2015</th>\n",
       "      <td>4</td>\n",
       "      <td>1.28</td>\n",
       "      <td>51039.60</td>\n",
       "      <td>941.48</td>\n",
       "      <td>43838.39</td>\n",
       "      <td>75.78</td>\n",
       "      <td>5986.26</td>\n",
       "      <td>Albany</td>\n",
       "    </tr>\n",
       "  </tbody>\n",
       "</table>\n",
       "</div>"
      ],
      "text/plain": [
       "            Week   AveragePrice  Total Volume  Small Hass  Large Hass  \\\n",
       "Date                                                                    \n",
       "27/12/2015      0          1.33      64236.62     1036.74    54454.85   \n",
       "20/12/2015      1          1.35      54876.98      674.28    44638.81   \n",
       "13/12/2015      2          0.93     118220.22      794.70   109149.67   \n",
       "06/12/2015      3          1.08      78992.15     1132.00    71976.41   \n",
       "29/11/2015      4          1.28      51039.60      941.48    43838.39   \n",
       "\n",
       "            Extra Large Hass  Small Bags  region  \n",
       "Date                                              \n",
       "27/12/2015             48.16     8603.62  Albany  \n",
       "20/12/2015             58.33     9408.07  Albany  \n",
       "13/12/2015            130.50     8042.21  Albany  \n",
       "06/12/2015             72.58     5677.40  Albany  \n",
       "29/11/2015             75.78     5986.26  Albany  "
      ]
     },
     "execution_count": 158,
     "metadata": {},
     "output_type": "execute_result"
    }
   ],
   "source": [
    "data = data.rename(columns={'4225':'Large Hass','4046':'Small Hass', '4770':'Extra Large Hass'})\n",
    "data.head()"
   ]
  },
  {
   "cell_type": "markdown",
   "metadata": {},
   "source": [
    "### Funciones a utilizar a lo largo del proyecto"
   ]
  },
  {
   "cell_type": "code",
   "execution_count": 116,
   "metadata": {},
   "outputs": [],
   "source": [
    "def kde_scipy_1(x,bandwidth=0.8, **kwargs):\n",
    "    \"\"\"Kernel Density Estimation with Scipy\"\"\"\n",
    "    # Note that scipy weights its bandwidth by the covariance of the\n",
    "    # input data.  To make the results comparable to the other methods,\n",
    "    # we divide the bandwidth by the sample standard deviation here.\n",
    "    kde = gaussian_kde(x, bw_method=bandwidth / x.std(ddof=1), **kwargs)\n",
    "    return lambda x_grid: kde.evaluate(x_grid)\n",
    "\n",
    "def kde_scipy_2(x,bandwidth=0.2, **kwargs):\n",
    "    \"\"\"Kernel Density Estimation with Scipy\"\"\"\n",
    "    # Note that scipy weights its bandwidth by the covariance of the\n",
    "    # input data.  To make the results comparable to the other methods,\n",
    "    # we divide the bandwidth by the sample standard deviation here.\n",
    "    kde = gaussian_kde(x, bw_method=bandwidth / x.std(ddof=1), **kwargs)\n",
    "    return lambda x_grid: kde.evaluate(x_grid)\n"
   ]
  },
  {
   "cell_type": "code",
   "execution_count": 160,
   "metadata": {},
   "outputs": [],
   "source": [
    "def acep_rechazo(f:'función objetivo a generar',\n",
    "                 max_f:'maximo de la funcion',\n",
    "                 N: 'numero de variables aleatorias distribuidas a generar',\n",
    "                 b: 'Entero máximo del vector x',\n",
    "                 n: 'Salto del vector en R2'):\n",
    "    X = np.zeros(N)\n",
    "    i = 0 \n",
    "    while i < N:\n",
    "        R2 = np.random.uniform(0,max_f) \n",
    "        R1 = np.random.uniform(0,b,n)\n",
    "\n",
    "        if R2 < f(R1):\n",
    "            X[i] = R1\n",
    "            i+=1\n",
    "    return X"
   ]
  },
  {
   "cell_type": "markdown",
   "metadata": {},
   "source": [
    "## Primer Nodo: Ventas"
   ]
  },
  {
   "cell_type": "markdown",
   "metadata": {},
   "source": [
    "Para el primer nodo, nuestro propósito es crear un modelo que proyecte las ventas de aguacate. Debido aq eu nuestros datos son semanales, esperamos que el modelo pueda predecir las ventas de la semana siguiente al periodo que seleccionamos que va del 2015-2018.  \n",
    "\n",
    "Las cifras con las que contamos son números muy grandes por lo que decidimos transformar los datos a una escala logarítmica para que fuera más sencillo manejarlos y disminuir la carga computacional."
   ]
  },
  {
   "cell_type": "code",
   "execution_count": 159,
   "metadata": {},
   "outputs": [],
   "source": [
    "ventas_log = np.log(data['Total Volume']) #Transformamos a escala logaritmica\n",
    "Ventas = kde_scipy_1(ventas_log) #Aplicamos kernel a los datos de las ventas"
   ]
  },
  {
   "cell_type": "code",
   "execution_count": 118,
   "metadata": {},
   "outputs": [
    {
     "data": {
      "image/png": "[encoded data removed]",
      "text/plain": [
       "<Figure size 432x288 with 1 Axes>"
      ]
     },
     "metadata": {
      "needs_background": "light"
     },
     "output_type": "display_data"
    }
   ],
   "source": [
    "#Graficas de los datos reales contra la estimación del kernel\n",
    "x_ventas = np.arange(0,max(ventas_log),1)\n",
    "plt.figure()\n",
    "plt.plot(x_ventas,Ventas(x_ventas));\n",
    "plt.hist(ventas_log,bins = 15, density = True);\n",
    "plt.show()"
   ]
  },
  {
   "cell_type": "markdown",
   "metadata": {},
   "source": [
    "## Probrando ajuste de distribuciones hipotéticas"
   ]
  },
  {
   "cell_type": "code",
   "execution_count": 229,
   "metadata": {},
   "outputs": [
    {
     "data": {
      "image/png": "[encoded data removed]",
      "text/plain": [
       "<Figure size 432x288 with 1 Axes>"
      ]
     },
     "metadata": {
      "needs_background": "light"
     },
     "output_type": "display_data"
    }
   ],
   "source": [
    "y, x ,_ = plt.hist(ventas_log, bins=18, density=True, label='Data')\n",
    "x = x[1:]\n",
    "\n",
    "dist = [d for d in dir(st) if isinstance(getattr(st,d), getattr(st, 'rv_continuous'))]\n",
    "dist = dist[1:2] + dist[3:5]\n",
    "error = pd.DataFrame(index=dist, columns=['error'])\n",
    "\n",
    "for d in dist:\n",
    "    params= getattr(st,d).fit(ventas_log)\n",
    "    y_hat = getattr(st, d)(*params).pdf(x)\n",
    "    error.loc[d]= ((y-y_hat)**2).mean()\n",
    "    plt.plot(x,y_hat, label=d)\n",
    "    \n",
    "plt.legend()\n",
    "plt.show()"
   ]
  },
  {
   "cell_type": "code",
   "execution_count": 242,
   "metadata": {},
   "outputs": [],
   "source": [
    "error_k=((y-Ventas(x_ventas))**2).mean()"
   ]
  },
  {
   "cell_type": "code",
   "execution_count": 243,
   "metadata": {},
   "outputs": [
    {
     "data": {
      "text/html": [
       "<div>\n",
       "<style scoped>\n",
       "    .dataframe tbody tr th:only-of-type {\n",
       "        vertical-align: middle;\n",
       "    }\n",
       "\n",
       "    .dataframe tbody tr th {\n",
       "        vertical-align: top;\n",
       "    }\n",
       "\n",
       "    .dataframe thead th {\n",
       "        text-align: right;\n",
       "    }\n",
       "</style>\n",
       "<table border=\"1\" class=\"dataframe\">\n",
       "  <thead>\n",
       "    <tr style=\"text-align: right;\">\n",
       "      <th></th>\n",
       "      <th>anglit</th>\n",
       "      <th>argus</th>\n",
       "      <th>beta</th>\n",
       "      <th>kernel</th>\n",
       "    </tr>\n",
       "  </thead>\n",
       "  <tbody>\n",
       "    <tr>\n",
       "      <th>error</th>\n",
       "      <td>0.00136168</td>\n",
       "      <td>0.00225215</td>\n",
       "      <td>0.000939502</td>\n",
       "      <td>0.004207</td>\n",
       "    </tr>\n",
       "  </tbody>\n",
       "</table>\n",
       "</div>"
      ],
      "text/plain": [
       "           anglit       argus         beta    kernel\n",
       "error  0.00136168  0.00225215  0.000939502  0.004207"
      ]
     },
     "execution_count": 243,
     "metadata": {},
     "output_type": "execute_result"
    }
   ],
   "source": [
    "nodo1_error = error.T\n",
    "nodo1_error['kernel'] = error_k\n",
    "nodo1_error"
   ]
  },
  {
   "cell_type": "markdown",
   "metadata": {},
   "source": [
    "#### La distribución que mejor se ajusta a la distribución real es la de beta, esta distribución es incluso mejor que la del kernel "
   ]
  },
  {
   "cell_type": "markdown",
   "metadata": {},
   "source": [
    "> $H_0$: Los datos se distribuye como  una función de distribución beta \n",
    "\n",
    "> $H_a$: Los datos no se distribuyen como beta"
   ]
  },
  {
   "cell_type": "markdown",
   "metadata": {},
   "source": [
    "### Pruebas de chi cuadrada"
   ]
  },
  {
   "cell_type": "code",
   "execution_count": 151,
   "metadata": {},
   "outputs": [
    {
     "name": "stdout",
     "output_type": "stream",
     "text": [
      "Valor de chi cuadrado teorico  =  18.412900944896037\n",
      "Valor de chi cuadrado librería =  Power_divergenceResult(statistic=18.412900944896037, pvalue=0.363251479214953)\n",
      "Estadístico de chi_cuadrado =  27.58711163827534\n"
     ]
    }
   ],
   "source": [
    "params = st.beta.fit(x)\n",
    "\n",
    "pi = st.beta.pdf(x,*params)\n",
    "# Cálculo de la esperanza usando la expresión teórica\n",
    "Ei = x*pi\n",
    "\n",
    "# Cálculo teórico de la chi cuadrada\n",
    "x2 = np.sum(list(map(lambda Ei, obs_i:(obs_i - Ei)**2 / Ei, Ei, y)))\n",
    "print('Valor de chi cuadrado teorico  = ', x2)\n",
    "\n",
    "# Cálculo usando la librería estadística de la chi cuadrada\n",
    "X2 = st.chisquare(y, Ei)\n",
    "print('Valor de chi cuadrado librería = ', X2)\n",
    "\n",
    "# Cálculo de Grados de libertad del estadístico\n",
    "p = 2 # Parámetros estimados con los datos\n",
    "m = 20-p-1 # grados de libertad\n",
    "\n",
    "Chi_est = st.chi2.ppf(q=0.95, df=m)\n",
    "print('Estadístico de chi_cuadrado = ', Chi_est)"
   ]
  },
  {
   "cell_type": "markdown",
   "metadata": {},
   "source": [
    "### Se rechaza $H_o$ ya que el valor de $p_{value}$ es pequeño"
   ]
  },
  {
   "cell_type": "markdown",
   "metadata": {},
   "source": [
    "### Prueba de cuantil-cuantil"
   ]
  },
  {
   "cell_type": "code",
   "execution_count": 153,
   "metadata": {},
   "outputs": [
    {
     "data": {
      "image/png": "[encoded data removed]",
      "text/plain": [
       "<Figure size 576x720 with 2 Axes>"
      ]
     },
     "metadata": {
      "needs_background": "light"
     },
     "output_type": "display_data"
    }
   ],
   "source": [
    "fig, ax = plt.subplots(2,1, figsize=(8,10))\n",
    "fig.tight_layout(pad=3.0)\n",
    "\n",
    "y, x, _ = ax[0].hist(ventas_log, bins=18, density=True, label='Histograma mediciones')\n",
    "dist = 'beta'\n",
    "params = getattr(st, dist).fit(ventas_log)\n",
    "y_hat = getattr(st, dist).pdf(x, *params)\n",
    "ax[0].plot(x, y_hat,'r--', label='Distribución ajustada')\n",
    "ax[0].set_ylabel('Probability')\n",
    "ax[0].grid()\n",
    "\n",
    "grap1 = sm.qqplot(ventas_log, dist=getattr(st, dist), line='q', fit=True, ax=ax[1])\n",
    "ax[1].grid()"
   ]
  },
  {
   "cell_type": "markdown",
   "metadata": {},
   "source": [
    "### Se rechaza $H_o$ ya que al realizar la prueba cuantil-cuantil podemos ver como es que los datos no se ajustan completamente.\n",
    "\n",
    "\n",
    "### Debido a que se rechazó la distribución beta, procedemos a realizar la distribución por medio de kernel.\n",
    "\n",
    "## Distribución por Kernel"
   ]
  },
  {
   "cell_type": "code",
   "execution_count": 132,
   "metadata": {
    "scrolled": true
   },
   "outputs": [
    {
     "data": {
      "text/plain": [
       "[<matplotlib.lines.Line2D at 0x20f359d87f0>]"
      ]
     },
     "execution_count": 132,
     "metadata": {},
     "output_type": "execute_result"
    },
    {
     "data": {
      "image/png": "[encoded data removed]",
      "text/plain": [
       "<Figure size 432x288 with 1 Axes>"
      ]
     },
     "metadata": {
      "needs_background": "light"
     },
     "output_type": "display_data"
    }
   ],
   "source": [
    "f = Ventas  #Definimos Kernel como f\n",
    "x = np.arange(0,max(ventas_log),1) #Definimos el vector en el rango de las ventas\n",
    "\n",
    "max_volumen = f(optimize.fmin(lambda x:-f(x),0,disp=False)) #Calculamos el valor máximo de la función\n",
    "\n",
    "#Graficamos el punto máximo con el kernel\n",
    "plt.plot(11.9,max_volumen,'x',lw = 50)\n",
    "\n",
    "plt.plot(x,f(x))"
   ]
  },
  {
   "cell_type": "markdown",
   "metadata": {},
   "source": [
    "## Simulación Montecarlo -  Aceptación y Rechazo"
   ]
  },
  {
   "cell_type": "code",
   "execution_count": 165,
   "metadata": {},
   "outputs": [],
   "source": [
    "np.random.seed(123)\n",
    "N = 1000 # numero de variables que distribuyen como f a generar\n",
    "\n",
    "# Usar func anteriormente definida como acep_rechazo_aleatorias que genera variables aleatorias\n",
    "aleatorias_monte_ventas = acep_rechazo(f,max_volumen,N,18,1)\n"
   ]
  },
  {
   "cell_type": "code",
   "execution_count": 180,
   "metadata": {},
   "outputs": [
    {
     "data": {
      "text/plain": [
       "79945.23758499135"
      ]
     },
     "execution_count": 180,
     "metadata": {},
     "output_type": "execute_result"
    }
   ],
   "source": [
    "#Calculo de medias para montecarlo en escala logarítmica y escala real\n",
    "media_monte_ventas_l = aleatorias_monte_ventas.mean()\n",
    "media_monte_ventas_r = np.exp(media_monte_ventas_l)\n",
    "\n",
    "#Calculo de medias reales en escala logarítmica y escala real\n",
    "media_ventas_log= ventas_log.mean()\n",
    "media_ventas_r= np.exp(ventas_log.mean())"
   ]
  },
  {
   "cell_type": "code",
   "execution_count": 183,
   "metadata": {},
   "outputs": [
    {
     "data": {
      "text/html": [
       "<div>\n",
       "<style scoped>\n",
       "    .dataframe tbody tr th:only-of-type {\n",
       "        vertical-align: middle;\n",
       "    }\n",
       "\n",
       "    .dataframe tbody tr th {\n",
       "        vertical-align: top;\n",
       "    }\n",
       "\n",
       "    .dataframe thead th {\n",
       "        text-align: right;\n",
       "    }\n",
       "</style>\n",
       "<table border=\"1\" class=\"dataframe\">\n",
       "  <thead>\n",
       "    <tr style=\"text-align: right;\">\n",
       "      <th></th>\n",
       "      <th>Montecarlo logarítmico</th>\n",
       "      <th>Real logarítmico</th>\n",
       "      <th>Montecarlo</th>\n",
       "      <th>Real</th>\n",
       "    </tr>\n",
       "  </thead>\n",
       "  <tbody>\n",
       "    <tr>\n",
       "      <th>Medias</th>\n",
       "      <td>11.289097</td>\n",
       "      <td>11.316294</td>\n",
       "      <td>79945.237585</td>\n",
       "      <td>82149.345433</td>\n",
       "    </tr>\n",
       "  </tbody>\n",
       "</table>\n",
       "</div>"
      ],
      "text/plain": [
       "        Montecarlo logarítmico  Real logarítmico    Montecarlo          Real\n",
       "Medias               11.289097         11.316294  79945.237585  82149.345433"
      ]
     },
     "execution_count": 183,
     "metadata": {},
     "output_type": "execute_result"
    }
   ],
   "source": [
    "nodo1_medias= pd.DataFrame(index=['Medias'] , columns=['Montecarlo logarítmico', 'Real logarítmico',\n",
    "                                                     'Montecarlo', 'Real'])\n",
    "nodo1_medias['Montecarlo logarítmico'] = media_monte_ventas_l\n",
    "nodo1_medias['Real logarítmico'] = media_ventas_log\n",
    "nodo1_medias['Montecarlo'] =  media_monte_ventas_r\n",
    "nodo1_medias['Real'] = media_ventas_r\n",
    "\n",
    "nodo1_medias"
   ]
  },
  {
   "cell_type": "markdown",
   "metadata": {},
   "source": [
    "## Segundo Nodo: Precio Promedio"
   ]
  },
  {
   "cell_type": "markdown",
   "metadata": {},
   "source": [
    "Para empezar con la simulación de los datos utilizamos la implementación de KDE correspondiente a Scipy ``gaussian_kde``. Para correrlo utilizamos la función vista en clase presentada a continuación:"
   ]
  },
  {
   "cell_type": "markdown",
   "metadata": {},
   "source": [
    "Una vez definida la función la usamos con los datos que tenemos sobre el precio promedio, como no tenemos el valor ``x_grid`` que requeria la función original, modificamos la función para que como resultado nos diera una función tal como se muestra enseguida:"
   ]
  },
  {
   "cell_type": "code",
   "execution_count": 251,
   "metadata": {},
   "outputs": [],
   "source": [
    "precios = data['AveragePrice']"
   ]
  },
  {
   "cell_type": "code",
   "execution_count": 252,
   "metadata": {},
   "outputs": [
    {
     "data": {
      "text/plain": [
       "<function __main__.kde_scipy.<locals>.<lambda>(x_grid)>"
      ]
     },
     "execution_count": 252,
     "metadata": {},
     "output_type": "execute_result"
    }
   ],
   "source": [
    "prices = kde_scipy_2(data['AveragePrice'])\n",
    "prices"
   ]
  },
  {
   "cell_type": "markdown",
   "metadata": {},
   "source": [
    "Creamos un eje x tomando en cuenta tanto el valor máximo como mínimo para delimitar el rango, para usarlo posteriormente como el argurmento de prices para generar la linea de la estimación por Kernel.\n",
    "Del mismo modo graficamos el histograma de los precios para poder hacer una comparación de los resultados obtenidos.\n",
    "En el grafico que se presenta en la siguiente celda se puede ver claramente como es que con la KDE se obtiene una linea que ciertamente replica el comportamiento de los datos reales mostrados en el histograma."
   ]
  },
  {
   "cell_type": "code",
   "execution_count": 270,
   "metadata": {},
   "outputs": [
    {
     "data": {
      "image/png": "[encoded data removed]",
      "text/plain": [
       "<Figure size 432x288 with 1 Axes>"
      ]
     },
     "metadata": {
      "needs_background": "light"
     },
     "output_type": "display_data"
    }
   ],
   "source": [
    "x_precio = np.arange(0.40,3.30,.10)\n",
    "plt.figure()\n",
    "plt.plot(x_precio,prices(x_precio))\n",
    "plt.hist(precios,bins = 20, density = True)\n",
    "plt.show()"
   ]
  },
  {
   "cell_type": "markdown",
   "metadata": {},
   "source": [
    "Una vez comprobado visualmente que la estimación KDE es buena, procedemos con la aplicación del Método Aceptación y Rechazo. \n",
    "Para este método encontramos primero el punto máximo de la estimación y lo graficamos para poder visualizarlo.\n",
    "Después de esto haciendo uso de la función creada en clase, creamos las variables aleatorias con la función generada en KDE, el valor máximo de esta misma función y el número de variables que queremos generar."
   ]
  },
  {
   "cell_type": "code",
   "execution_count": 258,
   "metadata": {},
   "outputs": [
    {
     "data": {
      "text/plain": [
       "[<matplotlib.lines.Line2D at 0x20f37d41748>]"
      ]
     },
     "execution_count": 258,
     "metadata": {},
     "output_type": "execute_result"
    },
    {
     "data": {
      "image/png": "[encoded data removed]",
      "text/plain": [
       "<Figure size 432x288 with 1 Axes>"
      ]
     },
     "metadata": {
      "needs_background": "light"
     },
     "output_type": "display_data"
    }
   ],
   "source": [
    "f = prices\n",
    "x = np.arange(0.40,3.50,.10)\n",
    "\n",
    "max_precio = f(optimize.fmin(lambda x:-f(x),0,disp=False))\n",
    "\n",
    "plt.plot(1.30,max_precio,'x',lw = 10)\n",
    "\n",
    "plt.plot(x,prices(x))\n",
    "\n"
   ]
  },
  {
   "cell_type": "code",
   "execution_count": 268,
   "metadata": {},
   "outputs": [],
   "source": [
    "np.random.seed(123)\n",
    "N = 1000 # numero de variables que distribuyen como f a generar\n",
    "\n",
    "# Usar func anteriormente definida como acep_rechazo_aleatorias que genera variables aleatorias\n",
    "aleatorias_montecarlo_prices = acep_rechazo(f,max_precio,N,4,1)"
   ]
  },
  {
   "cell_type": "markdown",
   "metadata": {},
   "source": [
    "Una vez realizada la simulación Montecarlo procedemos a comparar el valor medio de los datos simulados contra el valor medio de los datos realos obteniendo lo siguiente:"
   ]
  },
  {
   "cell_type": "code",
   "execution_count": 269,
   "metadata": {},
   "outputs": [
    {
     "name": "stdout",
     "output_type": "stream",
     "text": [
      "La media de las variables aleatorias es de 1.5196544160987964\n"
     ]
    }
   ],
   "source": [
    "print('La media de las variables aleatorias es de', aleatorias_montecarlo_prices.mean() )\n"
   ]
  },
  {
   "cell_type": "code",
   "execution_count": 262,
   "metadata": {},
   "outputs": [
    {
     "name": "stdout",
     "output_type": "stream",
     "text": [
      "La media real de nuestros datos es de 1.4059784097758825\n"
     ]
    }
   ],
   "source": [
    "print('La media real de nuestros datos es de', data['AveragePrice'].mean() )"
   ]
  },
  {
   "cell_type": "markdown",
   "metadata": {},
   "source": [
    "Como visualización presnetamos el historgrama de los datos simulados en las celdas anteriores, comparado con la función que resulta del KDE. Se puede apreciar que ambas tienen un comportamiento similar y la mayoría de los datos simulados se encuentran dentro de la línea KDE."
   ]
  },
  {
   "cell_type": "code",
   "execution_count": 315,
   "metadata": {
    "scrolled": true
   },
   "outputs": [
    {
     "data": {
      "image/png": "[encoded data removed]",
      "text/plain": [
       "<Figure size 432x288 with 1 Axes>"
      ]
     },
     "metadata": {
      "needs_background": "light"
     },
     "output_type": "display_data"
    }
   ],
   "source": [
    "x = np.arange(0.4,3.30,.10)\n",
    "plt.figure()\n",
    "plt.plot(x,f(x))\n",
    "plt.hist(var_aleatorias_montecarlo_prices, bins = 20, density = True)\n",
    "plt.show()"
   ]
  },
  {
   "cell_type": "code",
   "execution_count": 95,
   "metadata": {
    "scrolled": false
   },
   "outputs": [
    {
     "name": "stdout",
     "output_type": "stream",
     "text": [
      "Con una confianza de 0.95 la media del numero de positivos por montecarlo crudo  estará en el intervalo t normal,\n",
      " (1.3730005251827815, 1.4295560680871584)\n",
      "Media calculada por montecarlo crudo del numero de positivos 1.40127829663497\n",
      "El porcentaje de error entre la media real y la media estimada con montecarlo fue de 0.34 %\n"
     ]
    }
   ],
   "source": [
    "np.random.seed(123)\n",
    "\n",
    "# Nivel de confianza\n",
    "confianza = 0.95\n",
    "X = var_aleatorias_montecarlo_prices\n",
    "\n",
    "i1 = st.norm.interval(confianza, loc=np.mean(X), scale=st.sem(X))\n",
    "\n",
    "media_prices = np.mean(X)\n",
    "\n",
    "\n",
    "print('Con una confianza de %2.2f la media del numero de positivos por montecarlo crudo  estará en el intervalo t normal,\\n %s' %(confianza,i1))\n",
    "print('Media calculada por montecarlo crudo del numero de positivos' ,media_prices)\n",
    "\n",
    "error_positivos = abs(np.array(data['AveragePrice'].mean() - media_prices)/media_prices)\n",
    "porcentaje=error_positivos*100\n",
    "print('El porcentaje de error entre la media real y la media estimada con montecarlo fue de', round(porcentaje,2),'%')"
   ]
  },
  {
   "cell_type": "markdown",
   "metadata": {},
   "source": [
    "### Probando ajuste de distribuciones hipotéticas"
   ]
  },
  {
   "cell_type": "code",
   "execution_count": 279,
   "metadata": {},
   "outputs": [
    {
     "name": "stderr",
     "output_type": "stream",
     "text": [
      "C:\\Users\\DELL  LATITUDE\\Documents\\Simulacion\\lib\\site-packages\\scipy\\stats\\_continuous_distns.py:390: RuntimeWarning: divide by zero encountered in true_divide\n",
      "  return 1.0/np.pi/np.sqrt(x*(1-x))\n",
      "C:\\Users\\DELL  LATITUDE\\Documents\\Simulacion\\lib\\site-packages\\scipy\\stats\\_continuous_distns.py:515: RuntimeWarning: invalid value encountered in sqrt\n",
      "  sk = 2*(b-a)*np.sqrt(a + b + 1) / (a + b + 2) / np.sqrt(a*b)\n"
     ]
    },
    {
     "data": {
      "image/png": "[encoded data removed]",
      "text/plain": [
       "<Figure size 432x288 with 1 Axes>"
      ]
     },
     "metadata": {
      "needs_background": "light"
     },
     "output_type": "display_data"
    }
   ],
   "source": [
    "y, x ,_ = plt.hist(data['AveragePrice'], bins=29, density=True, label='Data')\n",
    "x = x[1:]\n",
    "\n",
    "dist = [d for d in dir(st) if isinstance(getattr(st,d), getattr(st, 'rv_continuous'))]\n",
    "dist = dist[1:5] + ['gamma']\n",
    "error = pd.DataFrame(index=dist, columns=['error'])\n",
    "\n",
    "for d in dist:\n",
    "    params= getattr(st,d).fit(data['AveragePrice'])\n",
    "    y_hat = getattr(st, d)(*params).pdf(x)\n",
    "    error.loc[d]= ((y-y_hat)**2).mean()\n",
    "    plt.plot(x,y_hat, label=d)\n",
    "    \n",
    "plt.legend()\n",
    "plt.show()"
   ]
  },
  {
   "cell_type": "code",
   "execution_count": 274,
   "metadata": {},
   "outputs": [
    {
     "name": "stdout",
     "output_type": "stream",
     "text": [
      "El error del kernel es de: 0.07250263342318405\n"
     ]
    }
   ],
   "source": [
    "error_k2=((y-prices(x_precio))**2).mean()\n",
    "print('El error del kernel es de:',error_k2)"
   ]
  },
  {
   "cell_type": "code",
   "execution_count": 276,
   "metadata": {},
   "outputs": [
    {
     "data": {
      "text/html": [
       "<div>\n",
       "<style scoped>\n",
       "    .dataframe tbody tr th:only-of-type {\n",
       "        vertical-align: middle;\n",
       "    }\n",
       "\n",
       "    .dataframe tbody tr th {\n",
       "        vertical-align: top;\n",
       "    }\n",
       "\n",
       "    .dataframe thead th {\n",
       "        text-align: right;\n",
       "    }\n",
       "</style>\n",
       "<table border=\"1\" class=\"dataframe\">\n",
       "  <thead>\n",
       "    <tr style=\"text-align: right;\">\n",
       "      <th></th>\n",
       "      <th>anglit</th>\n",
       "      <th>arcsine</th>\n",
       "      <th>argus</th>\n",
       "      <th>beta</th>\n",
       "      <th>gamma</th>\n",
       "      <th>kernel</th>\n",
       "    </tr>\n",
       "  </thead>\n",
       "  <tbody>\n",
       "    <tr>\n",
       "      <th>error</th>\n",
       "      <td>0.0772404</td>\n",
       "      <td>0.417052</td>\n",
       "      <td>0.142024</td>\n",
       "      <td>0.00495234</td>\n",
       "      <td>0.00541368</td>\n",
       "      <td>0.072503</td>\n",
       "    </tr>\n",
       "  </tbody>\n",
       "</table>\n",
       "</div>"
      ],
      "text/plain": [
       "          anglit   arcsine     argus        beta       gamma    kernel\n",
       "error  0.0772404  0.417052  0.142024  0.00495234  0.00541368  0.072503"
      ]
     },
     "execution_count": 276,
     "metadata": {},
     "output_type": "execute_result"
    }
   ],
   "source": [
    "nodo2_error = error.T\n",
    "nodo2_error['kernel'] = error_k2\n",
    "nodo2_error"
   ]
  },
  {
   "cell_type": "markdown",
   "metadata": {},
   "source": [
    "### La distribución que mejor se ajusta es la distribución beta"
   ]
  },
  {
   "cell_type": "code",
   "execution_count": 280,
   "metadata": {},
   "outputs": [
    {
     "data": {
      "text/plain": [
       "(0.9562072456576903,\n",
       " 0.9972650532345475,\n",
       " 0.5368965517241379,\n",
       " 2.7206843757193724)"
      ]
     },
     "execution_count": 280,
     "metadata": {},
     "output_type": "execute_result"
    }
   ],
   "source": [
    "params = st.beta.fit(x)\n",
    "params"
   ]
  },
  {
   "cell_type": "markdown",
   "metadata": {},
   "source": [
    "> $H_0$: Los datos se distribuye como  una función de distribución beta \n",
    "\n",
    "> $H_a$: Los datos no se distribuyen como beta"
   ]
  },
  {
   "cell_type": "code",
   "execution_count": 281,
   "metadata": {},
   "outputs": [
    {
     "name": "stdout",
     "output_type": "stream",
     "text": [
      "Valor de chi cuadrado teorico  =  15.082140107108541\n",
      "Valor de chi cuadrado librería =  Power_divergenceResult(statistic=15.082140107108541, pvalue=0.9775555957214122)\n",
      "Estadístico de chi_cuadrado =  27.58711163827534\n"
     ]
    }
   ],
   "source": [
    "pi = st.beta.pdf(x,*params)\n",
    "# Cálculo de la esperanza usando la expresión teórica\n",
    "Ei = x*pi\n",
    "\n",
    "# Cálculo teórico de la chi cuadrada\n",
    "x2 = np.sum(list(map(lambda Ei, obs_i:(obs_i - Ei)**2 / Ei, Ei, y)))\n",
    "print('Valor de chi cuadrado teorico  = ', x2)\n",
    "\n",
    "# Cálculo usando la librería estadística de la chi cuadrada\n",
    "X2 = st.chisquare(y, Ei)\n",
    "print('Valor de chi cuadrado librería = ', X2)\n",
    "\n",
    "# Cálculo de Grados de libertad del estadístico\n",
    "p = 2 # Parámetros estimados con los datos\n",
    "m = 20-p-1 # grados de libertad\n",
    "\n",
    "Chi_est = st.chi2.ppf(q=0.95, df=m)\n",
    "print('Estadístico de chi_cuadrado = ', Chi_est)"
   ]
  },
  {
   "cell_type": "markdown",
   "metadata": {},
   "source": [
    "### Se acepta la $H_0$ porque el $p_{value}$ es grande"
   ]
  },
  {
   "cell_type": "code",
   "execution_count": 62,
   "metadata": {},
   "outputs": [
    {
     "name": "stderr",
     "output_type": "stream",
     "text": [
      "C:\\Users\\DELL  LATITUDE\\Documents\\Simulacion\\lib\\site-packages\\scipy\\stats\\_continuous_distns.py:515: RuntimeWarning: invalid value encountered in sqrt\n",
      "  sk = 2*(b-a)*np.sqrt(a + b + 1) / (a + b + 2) / np.sqrt(a*b)\n"
     ]
    },
    {
     "data": {
      "image/png": "[encoded data removed]",
      "text/plain": [
       "<Figure size 576x720 with 2 Axes>"
      ]
     },
     "metadata": {
      "needs_background": "light"
     },
     "output_type": "display_data"
    }
   ],
   "source": [
    "fig, ax = plt.subplots(2,1, figsize=(8,10))\n",
    "fig.tight_layout(pad=3.0)\n",
    "\n",
    "y, x, _ = ax[0].hist(data['AveragePrice'], bins=20, density=True, label='Histograma mediciones')\n",
    "dist = 'beta'\n",
    "params = getattr(st, dist).fit(data['AveragePrice'])\n",
    "y_hat = getattr(st, dist).pdf(x, *params)\n",
    "ax[0].plot(x, y_hat,'r--', label='Distribución ajustada')\n",
    "ax[0].set_ylabel('Probability')\n",
    "ax[0].grid()\n",
    "\n",
    "grap1 = sm.qqplot(data['AveragePrice'], dist=getattr(st, dist), line='q', fit=True, ax=ax[1])\n",
    "ax[1].grid()"
   ]
  },
  {
   "cell_type": "markdown",
   "metadata": {},
   "source": [
    "### La distribución beta se asemeja mucho a los datos reales"
   ]
  },
  {
   "cell_type": "code",
   "execution_count": 71,
   "metadata": {},
   "outputs": [
    {
     "data": {
      "text/plain": [
       "(0.8363951419431126, 6.860949566952733e-17)"
      ]
     },
     "execution_count": 71,
     "metadata": {},
     "output_type": "execute_result"
    }
   ],
   "source": [
    "d, pvalor = ss.kstest(y_hat,\"beta\",params)\n",
    "d, pvalor\n"
   ]
  },
  {
   "cell_type": "markdown",
   "metadata": {},
   "source": [
    "### Rechazo HO????"
   ]
  },
  {
   "cell_type": "code",
   "execution_count": 313,
   "metadata": {
    "scrolled": true
   },
   "outputs": [
    {
     "data": {
      "text/plain": [
       "(1.8476949135951861, 1000)"
      ]
     },
     "execution_count": 313,
     "metadata": {},
     "output_type": "execute_result"
    }
   ],
   "source": [
    "samp = st.beta.rvs(*params, size=1000) \n",
    "samp.mean(), len(samp)"
   ]
  },
  {
   "cell_type": "markdown",
   "metadata": {},
   "source": [
    "# A partir de aquí empieza la simulacion de la distribución BETA"
   ]
  },
  {
   "cell_type": "code",
   "execution_count": 314,
   "metadata": {},
   "outputs": [
    {
     "name": "stdout",
     "output_type": "stream",
     "text": [
      "Con una confianza de 0.95 la media del numero de positivos por montecarlo crudo, estará en el intervalo t normal,\n",
      " (1.7995130626768554, 1.8958767645135168)\n",
      "Media calculada por montecarlo crudo del numero de positivos 1.8476949135951861\n",
      "El porcentaje de error entre la media real y la media estimada con montecarlo fue de 23.91 %\n"
     ]
    }
   ],
   "source": [
    "np.random.seed(123)\n",
    "\n",
    "# Nivel de confianza\n",
    "confianza = 0.95\n",
    "X = samp\n",
    "\n",
    "i1 = st.norm.interval(confianza, loc=np.mean(X), scale=st.sem(X))\n",
    "\n",
    "media_prices = np.mean(X)\n",
    "\n",
    "\n",
    "print('Con una confianza de %2.2f la media del numero de positivos por montecarlo crudo, estará en el intervalo t normal,\\n %s' %(confianza,i1))\n",
    "print('Media calculada por montecarlo crudo del numero de positivos' ,media_prices)\n",
    "\n",
    "error_positivos = abs(np.array(data['AveragePrice'].mean() - media_prices)/media_prices)\n",
    "porcentaje = error_positivos*100\n",
    "print('El porcentaje de error entre la media real y la media estimada con montecarlo fue de', round(porcentaje,2),'%')"
   ]
  },
  {
   "cell_type": "code",
   "execution_count": 105,
   "metadata": {},
   "outputs": [],
   "source": [
    "def acep_rechazo_strat(f:'función objetivo a generar',\n",
    "                 max_f:'maximo de la funcion',\n",
    "                 N: 'numero de variables aleatorias distribuidas a generar'):\n",
    "    X = np.zeros(N)\n",
    "    i = 0 \n",
    "    B = 3\n",
    "    U2 = np.random.rand(B)\n",
    "    k = np.arange(0,B)\n",
    "    v = (U2+k)/B\n",
    "    j = 0\n",
    "    while i < N:\n",
    "        R2 = np.random.uniform(0,max_precio)\n",
    "        R1 = 3.40 * v[j]\n",
    "        j += 1\n",
    "        if R2 < f([R1]):\n",
    "            X[i] = R1\n",
    "            i+=1\n",
    "    return X "
   ]
  },
  {
   "cell_type": "code",
   "execution_count": 154,
   "metadata": {},
   "outputs": [],
   "source": [
    "#acep_rechazo_strat(f,max_precio,1000)"
   ]
  },
  {
   "cell_type": "code",
   "execution_count": 76,
   "metadata": {},
   "outputs": [
    {
     "data": {
      "text/plain": [
       "array([-2.42667924, -0.42891263,  1.26593626, -0.8667404 , -0.67888615,\n",
       "       -0.09470897,  1.49138963, -0.638902  , -0.44398196, -0.43435128,\n",
       "        2.20593008,  2.18678609,  1.0040539 ,  0.3861864 ,  0.73736858,\n",
       "        1.49073203, -0.93583387,  1.17582904, -1.25388067, -0.6377515 ,\n",
       "        0.9071052 , -1.4286807 , -0.14006872, -0.8617549 , -0.25561937,\n",
       "       -2.79858911, -1.7715331 , -0.69987723,  0.92746243, -0.17363568,\n",
       "        0.00284592,  0.68822271, -0.87953634,  0.28362732, -0.80536652,\n",
       "       -1.72766949, -0.39089979,  0.57380586,  0.33858905, -0.01183049,\n",
       "        2.39236527,  0.41291216,  0.97873601,  2.23814334, -1.29408532,\n",
       "       -1.03878821,  1.74371223, -0.79806274,  0.02968323,  1.06931597,\n",
       "        0.89070639,  1.75488618,  1.49564414,  1.06939267, -0.77270871,\n",
       "        0.79486267,  0.31427199, -1.32626546,  1.41729905,  0.80723653,\n",
       "        0.04549008, -0.23309206, -1.19830114,  0.19952407,  0.46843912,\n",
       "       -0.83115498,  1.16220405, -1.09720305, -2.12310035,  1.03972709,\n",
       "       -0.40336604, -0.12602959, -0.83751672, -1.60596276,  1.25523737,\n",
       "       -0.68886898,  1.66095249,  0.80730819, -0.31475815, -1.0859024 ,\n",
       "       -0.73246199, -1.21252313,  2.08711336,  0.16444123,  1.15020554,\n",
       "       -1.26735205,  0.18103513,  1.17786194, -0.33501076,  1.03111446,\n",
       "       -1.08456791, -1.36347154,  0.37940061, -0.37917643,  0.64205469,\n",
       "       -1.97788793,  0.71226464,  2.59830393, -0.02462598,  0.03414213])"
      ]
     },
     "execution_count": 76,
     "metadata": {},
     "output_type": "execute_result"
    }
   ],
   "source": [
    "samp = st.norm.rvs(loc=0,scale=1,size=100) \n",
    "\n",
    "samp"
   ]
  }
 ],
 "metadata": {
  "kernelspec": {
   "display_name": "Python 3",
   "language": "python",
   "name": "python3"
  },
  "language_info": {
   "codemirror_mode": {
    "name": "ipython",
    "version": 3
   },
   "file_extension": ".py",
   "mimetype": "text/x-python",
   "name": "python",
   "nbconvert_exporter": "python",
   "pygments_lexer": "ipython3",
   "version": "3.7.3"
  }
 },
 "nbformat": 4,
 "nbformat_minor": 4
}
