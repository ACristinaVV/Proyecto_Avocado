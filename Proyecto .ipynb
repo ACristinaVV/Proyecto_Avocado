{
 "cells": [
  {
   "cell_type": "markdown",
   "metadata": {},
   "source": [
    "### 1.1 Simulación Montecarlo aplicada a las ventas de aguacates.\n",
    "> #### Integrantes:\n",
    "> Espinosa García Lyha   \n",
    "> Navarro Valencia Dayana  \n",
    "> Vazquez Vargas Ana Cristina  \n",
    "\n",
    "### 1.2 Objetivos.\n",
    "> #### 1.1 Objetivo general.\n",
    ">  - Simular a partir de la información obtenida diferentes escenarios relacionados con las ventas de aguacates.\n",
    "\n",
    "> #### 1.2 Objetivos específicos\n",
    "> \n",
    "\n",
    "\n",
    "### 1.3 Definición del problema.\n",
    "> Se debe describir en una cuartilla máximo cuál es el escenario de negocio que se va a modelar, identificar cuáles son los supuestos que defines en el negocio y cuáles son los \"nodos\" o \"escenarios\" que identificas necesarios simular y porqué. Debes elaborar un diagrama de inicio a fin, identificando los \"nodos\" o \"escenarios\" a simular.\n",
    "\n",
    "El escenario que deseamos hace runa proyección sobre las ventas de aguacates en Estados Unidos. La base de datos con la que contamos nos ofrece información semanal sobre:\n",
    "> Ventas totales   \n",
    "> Ventas por tipo de aguacate  \n",
    "> Ventas por tipo de bolsas       \n",
    "\n",
    "Nuestro propósito con este proyecto es analizar la base de datos, obtener su función de probabilidad, aplicar simulación montecarlo y dar una opinión informada a un inversionista en este negocio. \n",
    "\n",
    "\n",
    "\n",
    "\n",
    "### 1.4 Nodos y variables que se decidieron simular y porqué\n",
    "> En este apartado el objetivo es identificar los problemas que se van a abordar, para examinar la factibilidad y viabilidad de la simulación de los nodos escogidos. Posteriormente se debe de argumentar del porqué de los nodos escogidos.  \n",
    "\n",
    "Para este proyecto en particular los nodos que hemos decidido simular son: \n",
    "> Ventas totales   \n",
    "> Temporalidad   \n",
    "> Precio promedio  \n",
    "> Clasificación     \n",
    "\n",
    "El objetivo de simular las **ventas totales** es analizar como fluctua el volumen de ventas. Lo que esperamos es proyectar las ventas de aguacate para el próximo año. \n",
    "\n",
    "Al simular la **temporalidad** podemos obtener cual es la temporada en la que se espera mayor cantidad de ventas totales \n",
    "\n",
    "Decidimos simular el **precio promedio** debido a que de esta manera podemos conocer su comportamiento, que tan volátil es, así como cual es la probabilidad de que el precio del aguacate suba a más de 2 dólares por unidad\n",
    "\n",
    "Con la simulaciones de la **clasificación** de los aguacates buscamos encontrar cuál tipo es el que se espera que tenga mayores ventas, esto nos sirve para identificar el mercado más próspero.   \n"
   ]
  }
 ],
 "metadata": {
  "kernelspec": {
   "display_name": "Python 3",
   "language": "python",
   "name": "python3"
  },
  "language_info": {
   "codemirror_mode": {
    "name": "ipython",
    "version": 3
   },
   "file_extension": ".py",
   "mimetype": "text/x-python",
   "name": "python",
   "nbconvert_exporter": "python",
   "pygments_lexer": "ipython3",
   "version": "3.8.5"
  }
 },
 "nbformat": 4,
 "nbformat_minor": 4
}
