{
 "cells": [
  {
   "cell_type": "markdown",
   "metadata": {},
   "source": [
    "<img style=\"float: left; margin: 30px 15px 15px 15px;\" src=\"https://pngimage.net/wp-content/uploads/2018/06/logo-iteso-png-5.png\" width=\"300\" height=\"500\" /> \n",
    "    \n",
    "    \n",
    "### <font color='navy'> Simulación de procesos financieros. \n",
    "\n",
    "**Nombres:**  Espinosa García Lyha, Navarro Valencia Dayana, Vazquez Vargas Ana Cristina \n",
    "\n",
    "**Fecha:** 19 de Marzo del 2021.\n",
    "\n",
    "**Expediente** : 721470 , 721861 , 721215\n",
    "\n",
    "**Profesor:** Oscar David Jaramillo Zuluaga.\n",
    "    \n",
    "**Link Github**: https://github.com/ACristinaVV/Proyecto_Avocado.git\n",
    "\n"
   ]
  },
  {
   "cell_type": "markdown",
   "metadata": {},
   "source": [
    "# <center> ![Proyecto SPF](avocado.jpg) Proyecto SPF\n",
    "    "
   ]
  },
  {
   "cell_type": "markdown",
   "metadata": {},
   "source": [
    "### 1.1 Simulación Montecarlo aplicada a las ventas de aguacates.\n",
    "  \n",
    "\n",
    "\n",
    "### 1.2 Objetivos.\n",
    "> #### 1.1 Objetivo general.\n",
    ">  - Proyectar los diferentes escenarios relacionados con las ventas de aguacates. \n",
    "\n",
    "> #### 1.2 Objetivos específicos\n",
    ">  - Aplicar simulación montecarlo para conocer la mejor temporada para vender aguacates.   \n",
    ">  - Encontrar por medio de las simulaciones el tipo de aguacate que es más conveniente vender.   \n",
    ">  - Estimar y proyectar el precio promedio de una pieza de aguacate.   \n",
    ">  - Analizar el comportamiento de las ventas totales.  \n",
    "\n",
    "\n",
    "### 1.3 Definición del problema.\n",
    "\n",
    "Considerada la estrella del campo mexicano, el aguacate es uno de los frutos preferidos de la cocina internacional. Países como Estados Unidos, Canadá, China y la Unión Europea son grandes consumidores de aguacate. Para estimar la importancia en el mundo de este alimento, el Servicio Nacional de Sanidad, Inocuidad y Calidad Agroalimentaria (SENASICA) estima que en el mundo 1 de cada 3 aguacates se cosechan en México.\n",
    "\n",
    "Los productores nacionales apuestan al mercado americano ya que es su principal comprador a nivel internacional. Es por esto que la base de datos que encontramos nos pareció interesante y de gran utilidad puesto que en base a ella simularemos el comportamiento de este producto en el mercado, y que mejor referente que su principal consumidor.  \n",
    "\n",
    "El escenario que deseamos proyectar es el de las ventas de aguacates en Estados Unidos basándonos en la información que proporcionaba nuestra base de datos.\n",
    "\n",
    "Nuestro propósito con este proyecto es analizar la base de datos, obtener su función de probabilidad, aplicar simulación montecarlo y dar una opinión informada a un inversionista en este negocio. \n",
    "\n",
    "Las variables (columnas) que utilizaremos para este estudio son: Fecha, Ventas totales, Precio promedio, Ventas por tipo. \n",
    "\n",
    "\n",
    "\n",
    "### 1.4 Nodos y variables que se decidieron simular y porqué\n",
    "Para este proyecto en particular los nodos que hemos decidido simular son: \n",
    "> - Ventas totales   \n",
    "> - Temporalidad   \n",
    "> - Precio promedio  \n",
    "> - Clasificación     \n",
    "\n",
    "El objetivo de simular las **ventas totales** es analizar como fluctua el volumen de ventas. Lo que esperamos es proyectar las ventas de aguacate para el próximo año. \n",
    "\n",
    "Al simular la **temporalidad** podemos obtener cual es la temporada en la que se espera mayor cantidad de ventas totales \n",
    "\n",
    "Decidimos simular el **precio promedio** debido a que de esta manera podemos conocer su comportamiento, que tan volátil es, así como cual es la probabilidad de que el precio del aguacate suba a más de 2 dólares por unidad\n",
    "\n",
    "Con la simulaciones de la **clasificación** de los aguacates buscamos encontrar cuál tipo es el que se espera que tenga mayores ventas, esto nos sirve para identificar el mercado más próspero.    \n",
    "\n",
    "#### Esquema \n",
    "\n"
   ]
  },
  {
   "cell_type": "markdown",
   "metadata": {},
   "source": [
    "<img src=\"AVOCADO.png\">"
   ]
  },
  {
   "cell_type": "markdown",
   "metadata": {},
   "source": [
    "### 1.5 Definición de hipótesis y supuestos.\n",
    "\n",
    "#### Supuestos:\n",
    "\n",
    "- Suponemos que los datos presentado son reales\n",
    "- Si se realiza un negocio será dentro de condiciones regulares\n",
    "- La información presentada es correcta y confiable\n",
    "- Como moneda se utilizará el dolar estadounidense\n",
    "- Las variables decididas son las mejores variables para modelar el comportamiento de las ventas de aguacate\n",
    "\n",
    "#### Hipótesis\n",
    "\n",
    "- La venta de aguacate tiene cierta temporalidad (Altas ventas de Octubre a Enero), no obstante el producto se oferta constantemente durante todo el año. \n",
    "\n",
    "- El precio fluctúa dependiendo de la temporada\n",
    "\n",
    "- El tipo de aguacate más popular es el 4225-Large Hass "
   ]
  },
  {
   "cell_type": "markdown",
   "metadata": {},
   "source": [
    "### 1.6 Obtencion Base de Datos\n",
    "\n",
    "La base de datos a utilizar la obtivimos de la plataforma Kaggle, la cual ofrece una amplia cantidad de data sets para su posterior análisis. \n",
    "Fue en esta página que encontramos información sobres las ventas de aguacates.\n",
    "La base de datos se compone de los siguientes\n",
    " • Año\n",
    " • fecha de la observación semanal\n",
    " • Ventas totales\n",
    " • Precio Promedio\n",
    " • Ventas por tipo de aguacate \n",
    " • Ventas por tipo de bolsa \n",
    " \n",
    " La base de datos con la que contamos nos ofrece información semanal sobre:\n",
    "> - Ventas totales: la cantidad de piezas de aguacate vendidas en total.   \n",
    "> - Ventas por tipo de aguacate:  la cantidad de piezas vendidas por cada tipo de aguacate (4046 - Small Hass, 4225 - Large Hass, 4770 - Extra large Hass)   \n",
    "> - Ventas por tipo de bolsas: el total de bolsas vendidas (Small / Large)   \n",
    "> - Precio promedio: el precio promedio por pieza de aguacate (sin importar el tipo)    \n",
    "> - Fecha: observación por semana   \n",
    "> - Año: año de la observación    \n",
    "> - Región: ciudad o región de la observación   \n",
    " \n",
    "La problematica que buscamos solucionar, es darnos una idea clara de como es que funcionan las ventas de aguacates y porque sería un buen producto para invertir\n",
    "\n",
    "[Liga a la base de datos](https://www.kaggle.com/neuromusic/avocado-prices)\n",
    "\n"
   ]
  },
  {
   "cell_type": "code",
   "execution_count": 1,
   "metadata": {},
   "outputs": [
    {
     "data": {
      "text/html": [
       "<div>\n",
       "<style scoped>\n",
       "    .dataframe tbody tr th:only-of-type {\n",
       "        vertical-align: middle;\n",
       "    }\n",
       "\n",
       "    .dataframe tbody tr th {\n",
       "        vertical-align: top;\n",
       "    }\n",
       "\n",
       "    .dataframe thead th {\n",
       "        text-align: right;\n",
       "    }\n",
       "</style>\n",
       "<table border=\"1\" class=\"dataframe\">\n",
       "  <thead>\n",
       "    <tr style=\"text-align: right;\">\n",
       "      <th></th>\n",
       "      <th>Week</th>\n",
       "      <th>AveragePrice</th>\n",
       "      <th>Total Volume</th>\n",
       "      <th>4046</th>\n",
       "      <th>4225</th>\n",
       "      <th>4770</th>\n",
       "      <th>Total Bags</th>\n",
       "      <th>Small Bags</th>\n",
       "      <th>Large Bags</th>\n",
       "      <th>XLarge Bags</th>\n",
       "      <th>type</th>\n",
       "      <th>year</th>\n",
       "      <th>region</th>\n",
       "    </tr>\n",
       "    <tr>\n",
       "      <th>Date</th>\n",
       "      <th></th>\n",
       "      <th></th>\n",
       "      <th></th>\n",
       "      <th></th>\n",
       "      <th></th>\n",
       "      <th></th>\n",
       "      <th></th>\n",
       "      <th></th>\n",
       "      <th></th>\n",
       "      <th></th>\n",
       "      <th></th>\n",
       "      <th></th>\n",
       "      <th></th>\n",
       "    </tr>\n",
       "  </thead>\n",
       "  <tbody>\n",
       "    <tr>\n",
       "      <th>27/12/2015</th>\n",
       "      <td>0</td>\n",
       "      <td>1.33</td>\n",
       "      <td>64236.62</td>\n",
       "      <td>1036.74</td>\n",
       "      <td>54454.85</td>\n",
       "      <td>48.16</td>\n",
       "      <td>8696.87</td>\n",
       "      <td>8603.62</td>\n",
       "      <td>93.25</td>\n",
       "      <td>0.0</td>\n",
       "      <td>conventional</td>\n",
       "      <td>2015</td>\n",
       "      <td>Albany</td>\n",
       "    </tr>\n",
       "    <tr>\n",
       "      <th>20/12/2015</th>\n",
       "      <td>1</td>\n",
       "      <td>1.35</td>\n",
       "      <td>54876.98</td>\n",
       "      <td>674.28</td>\n",
       "      <td>44638.81</td>\n",
       "      <td>58.33</td>\n",
       "      <td>9505.56</td>\n",
       "      <td>9408.07</td>\n",
       "      <td>97.49</td>\n",
       "      <td>0.0</td>\n",
       "      <td>conventional</td>\n",
       "      <td>2015</td>\n",
       "      <td>Albany</td>\n",
       "    </tr>\n",
       "    <tr>\n",
       "      <th>13/12/2015</th>\n",
       "      <td>2</td>\n",
       "      <td>0.93</td>\n",
       "      <td>118220.22</td>\n",
       "      <td>794.70</td>\n",
       "      <td>109149.67</td>\n",
       "      <td>130.50</td>\n",
       "      <td>8145.35</td>\n",
       "      <td>8042.21</td>\n",
       "      <td>103.14</td>\n",
       "      <td>0.0</td>\n",
       "      <td>conventional</td>\n",
       "      <td>2015</td>\n",
       "      <td>Albany</td>\n",
       "    </tr>\n",
       "    <tr>\n",
       "      <th>06/12/2015</th>\n",
       "      <td>3</td>\n",
       "      <td>1.08</td>\n",
       "      <td>78992.15</td>\n",
       "      <td>1132.00</td>\n",
       "      <td>71976.41</td>\n",
       "      <td>72.58</td>\n",
       "      <td>5811.16</td>\n",
       "      <td>5677.40</td>\n",
       "      <td>133.76</td>\n",
       "      <td>0.0</td>\n",
       "      <td>conventional</td>\n",
       "      <td>2015</td>\n",
       "      <td>Albany</td>\n",
       "    </tr>\n",
       "    <tr>\n",
       "      <th>29/11/2015</th>\n",
       "      <td>4</td>\n",
       "      <td>1.28</td>\n",
       "      <td>51039.60</td>\n",
       "      <td>941.48</td>\n",
       "      <td>43838.39</td>\n",
       "      <td>75.78</td>\n",
       "      <td>6183.95</td>\n",
       "      <td>5986.26</td>\n",
       "      <td>197.69</td>\n",
       "      <td>0.0</td>\n",
       "      <td>conventional</td>\n",
       "      <td>2015</td>\n",
       "      <td>Albany</td>\n",
       "    </tr>\n",
       "  </tbody>\n",
       "</table>\n",
       "</div>"
      ],
      "text/plain": [
       "            Week   AveragePrice  Total Volume     4046       4225    4770  \\\n",
       "Date                                                                        \n",
       "27/12/2015      0          1.33      64236.62  1036.74   54454.85   48.16   \n",
       "20/12/2015      1          1.35      54876.98   674.28   44638.81   58.33   \n",
       "13/12/2015      2          0.93     118220.22   794.70  109149.67  130.50   \n",
       "06/12/2015      3          1.08      78992.15  1132.00   71976.41   72.58   \n",
       "29/11/2015      4          1.28      51039.60   941.48   43838.39   75.78   \n",
       "\n",
       "            Total Bags  Small Bags  Large Bags  XLarge Bags          type  \\\n",
       "Date                                                                        \n",
       "27/12/2015     8696.87     8603.62       93.25          0.0  conventional   \n",
       "20/12/2015     9505.56     9408.07       97.49          0.0  conventional   \n",
       "13/12/2015     8145.35     8042.21      103.14          0.0  conventional   \n",
       "06/12/2015     5811.16     5677.40      133.76          0.0  conventional   \n",
       "29/11/2015     6183.95     5986.26      197.69          0.0  conventional   \n",
       "\n",
       "            year  region  \n",
       "Date                      \n",
       "27/12/2015  2015  Albany  \n",
       "20/12/2015  2015  Albany  \n",
       "13/12/2015  2015  Albany  \n",
       "06/12/2015  2015  Albany  \n",
       "29/11/2015  2015  Albany  "
      ]
     },
     "execution_count": 1,
     "metadata": {},
     "output_type": "execute_result"
    }
   ],
   "source": [
    "import pandas as pd\n",
    "\n",
    "data = pd.read_csv('BaseDatos.csv')\n",
    "\n",
    "data.set_index('Date', inplace=True)\n",
    "data.head()"
   ]
  },
  {
   "cell_type": "markdown",
   "metadata": {},
   "source": [
    "#### BASE DE DATOS LIMPIA"
   ]
  },
  {
   "cell_type": "code",
   "execution_count": 2,
   "metadata": {},
   "outputs": [],
   "source": [
    "data.drop([\"Total Bags\", \"Large Bags\",\"XLarge Bags\", 'type', 'year'], axis = 1, inplace = True) "
   ]
  },
  {
   "cell_type": "code",
   "execution_count": 3,
   "metadata": {},
   "outputs": [
    {
     "data": {
      "text/html": [
       "<div>\n",
       "<style scoped>\n",
       "    .dataframe tbody tr th:only-of-type {\n",
       "        vertical-align: middle;\n",
       "    }\n",
       "\n",
       "    .dataframe tbody tr th {\n",
       "        vertical-align: top;\n",
       "    }\n",
       "\n",
       "    .dataframe thead th {\n",
       "        text-align: right;\n",
       "    }\n",
       "</style>\n",
       "<table border=\"1\" class=\"dataframe\">\n",
       "  <thead>\n",
       "    <tr style=\"text-align: right;\">\n",
       "      <th></th>\n",
       "      <th>Week</th>\n",
       "      <th>AveragePrice</th>\n",
       "      <th>Total Volume</th>\n",
       "      <th>Small Hass</th>\n",
       "      <th>Large Hass</th>\n",
       "      <th>Extra Large Hass</th>\n",
       "      <th>Small Bags</th>\n",
       "      <th>region</th>\n",
       "    </tr>\n",
       "    <tr>\n",
       "      <th>Date</th>\n",
       "      <th></th>\n",
       "      <th></th>\n",
       "      <th></th>\n",
       "      <th></th>\n",
       "      <th></th>\n",
       "      <th></th>\n",
       "      <th></th>\n",
       "      <th></th>\n",
       "    </tr>\n",
       "  </thead>\n",
       "  <tbody>\n",
       "    <tr>\n",
       "      <th>27/12/2015</th>\n",
       "      <td>0</td>\n",
       "      <td>1.33</td>\n",
       "      <td>64236.62</td>\n",
       "      <td>1036.74</td>\n",
       "      <td>54454.85</td>\n",
       "      <td>48.16</td>\n",
       "      <td>8603.62</td>\n",
       "      <td>Albany</td>\n",
       "    </tr>\n",
       "    <tr>\n",
       "      <th>20/12/2015</th>\n",
       "      <td>1</td>\n",
       "      <td>1.35</td>\n",
       "      <td>54876.98</td>\n",
       "      <td>674.28</td>\n",
       "      <td>44638.81</td>\n",
       "      <td>58.33</td>\n",
       "      <td>9408.07</td>\n",
       "      <td>Albany</td>\n",
       "    </tr>\n",
       "    <tr>\n",
       "      <th>13/12/2015</th>\n",
       "      <td>2</td>\n",
       "      <td>0.93</td>\n",
       "      <td>118220.22</td>\n",
       "      <td>794.70</td>\n",
       "      <td>109149.67</td>\n",
       "      <td>130.50</td>\n",
       "      <td>8042.21</td>\n",
       "      <td>Albany</td>\n",
       "    </tr>\n",
       "    <tr>\n",
       "      <th>06/12/2015</th>\n",
       "      <td>3</td>\n",
       "      <td>1.08</td>\n",
       "      <td>78992.15</td>\n",
       "      <td>1132.00</td>\n",
       "      <td>71976.41</td>\n",
       "      <td>72.58</td>\n",
       "      <td>5677.40</td>\n",
       "      <td>Albany</td>\n",
       "    </tr>\n",
       "    <tr>\n",
       "      <th>29/11/2015</th>\n",
       "      <td>4</td>\n",
       "      <td>1.28</td>\n",
       "      <td>51039.60</td>\n",
       "      <td>941.48</td>\n",
       "      <td>43838.39</td>\n",
       "      <td>75.78</td>\n",
       "      <td>5986.26</td>\n",
       "      <td>Albany</td>\n",
       "    </tr>\n",
       "  </tbody>\n",
       "</table>\n",
       "</div>"
      ],
      "text/plain": [
       "            Week   AveragePrice  Total Volume  Small Hass  Large Hass  \\\n",
       "Date                                                                    \n",
       "27/12/2015      0          1.33      64236.62     1036.74    54454.85   \n",
       "20/12/2015      1          1.35      54876.98      674.28    44638.81   \n",
       "13/12/2015      2          0.93     118220.22      794.70   109149.67   \n",
       "06/12/2015      3          1.08      78992.15     1132.00    71976.41   \n",
       "29/11/2015      4          1.28      51039.60      941.48    43838.39   \n",
       "\n",
       "            Extra Large Hass  Small Bags  region  \n",
       "Date                                              \n",
       "27/12/2015             48.16     8603.62  Albany  \n",
       "20/12/2015             58.33     9408.07  Albany  \n",
       "13/12/2015            130.50     8042.21  Albany  \n",
       "06/12/2015             72.58     5677.40  Albany  \n",
       "29/11/2015             75.78     5986.26  Albany  "
      ]
     },
     "execution_count": 3,
     "metadata": {},
     "output_type": "execute_result"
    }
   ],
   "source": [
    "data = data.rename(columns={'4225':'Large Hass','4046':'Small Hass', '4770':'Extra Large Hass'})\n",
    "data.head()"
   ]
  },
  {
   "cell_type": "code",
   "execution_count": 5,
   "metadata": {},
   "outputs": [],
   "source": [
    "import numpy as np\n",
    "from sklearn.neighbors import KernelDensity\n",
    "from scipy.stats import gaussian_kde\n",
    "from statsmodels.nonparametric.kde import KDEUnivariate\n",
    "from statsmodels.nonparametric.kernel_density import KDEMultivariate\n",
    "%matplotlib inline\n",
    "import matplotlib.pyplot as plt\n",
    "from scipy import optimize\n",
    "import scipy.stats as st "
   ]
  },
  {
   "cell_type": "code",
   "execution_count": 8,
   "metadata": {},
   "outputs": [],
   "source": [
    "def kde_statsmodels_m(x, bandwidth=0.2, **kwargs):\n",
    "    \"\"\"Multivariate Kernel Density Estimation with Statsmodels\"\"\"\n",
    "    kde = KDEMultivariate(x, \n",
    "                          bw='cv_ml',  #bandwidth * np.ones_like(x),\n",
    "                          var_type='c', **kwargs)\n",
    "    return lambda x_grid: kde.pdf(x_grid)\n"
   ]
  },
  {
   "cell_type": "code",
   "execution_count": 15,
   "metadata": {},
   "outputs": [],
   "source": [
    "def kde_scipy(x,bandwidth=0.2, **kwargs):\n",
    "    \"\"\"Kernel Density Estimation with Scipy\"\"\"\n",
    "    # Note that scipy weights its bandwidth by the covariance of the\n",
    "    # input data.  To make the results comparable to the other methods,\n",
    "    # we divide the bandwidth by the sample standard deviation here.\n",
    "    kde = gaussian_kde(x, bw_method=bandwidth / x.std(ddof=1), **kwargs)\n",
    "    return lambda x_grid: kde.evaluate(x_grid)\n"
   ]
  },
  {
   "cell_type": "code",
   "execution_count": 16,
   "metadata": {},
   "outputs": [
    {
     "data": {
      "text/plain": [
       "<function __main__.kde_scipy.<locals>.<lambda>(x_grid)>"
      ]
     },
     "execution_count": 16,
     "metadata": {},
     "output_type": "execute_result"
    }
   ],
   "source": [
    "prices = kde_scipy(data['AveragePrice'])\n",
    "prices"
   ]
  },
  {
   "cell_type": "code",
   "execution_count": 33,
   "metadata": {},
   "outputs": [
    {
     "data": {
      "image/png": "[encoded data removed]",
      "text/plain": [
       "<Figure size 432x288 with 1 Axes>"
      ]
     },
     "metadata": {
      "needs_background": "light"
     },
     "output_type": "display_data"
    }
   ],
   "source": [
    "x_precio = np.arange(0.40,3.30,.10)\n",
    "plt.figure()\n",
    "plt.plot(x_precio,prices(x_precio));\n",
    "plt.hist(data['AveragePrice'],bins = 15, density = True);\n",
    "plt.show()"
   ]
  },
  {
   "cell_type": "code",
   "execution_count": 46,
   "metadata": {},
   "outputs": [
    {
     "data": {
      "text/plain": [
       "[<matplotlib.lines.Line2D at 0x1e14e10a7b8>]"
      ]
     },
     "execution_count": 46,
     "metadata": {},
     "output_type": "execute_result"
    },
    {
     "data": {
      "image/png": "[encoded data removed]",
      "text/plain": [
       "<Figure size 432x288 with 1 Axes>"
      ]
     },
     "metadata": {
      "needs_background": "light"
     },
     "output_type": "display_data"
    }
   ],
   "source": [
    "f = prices\n",
    "x = np.arange(0.40,3.50,.10)\n",
    "\n",
    "max_precio = f(optimize.fmin(lambda x:-f(x),0,disp=False))\n",
    "\n",
    "plt.plot(1.30,max_precio,'x',lw = 10)\n",
    "\n",
    "plt.plot(x,prices(x))\n",
    "\n"
   ]
  },
  {
   "cell_type": "code",
   "execution_count": 57,
   "metadata": {},
   "outputs": [],
   "source": [
    "def acep_rechazo_positivos(f:'función objetivo a generar',\n",
    "                 max_f:'maximo de la funcion',\n",
    "                 N: 'numero de variables aleatorias distribuidas a generar'):\n",
    "    '''Funcion para hacer el metodo de aceptacion de rechazo especificamente para los datos de covid positivos,\n",
    "    regresa las variables aleatorias aceptadas'''\n",
    "    X = np.zeros(N)\n",
    "    i = 0 \n",
    "    while i < N:\n",
    "        R2 = np.random.uniform(0,max_f) \n",
    "        R1 = np.random.uniform(0,4,1)\n",
    "\n",
    "        if R2 < f(R1):\n",
    "            X[i] = R1\n",
    "            i+=1\n",
    "    return X\n",
    "\n"
   ]
  },
  {
   "cell_type": "code",
   "execution_count": 91,
   "metadata": {},
   "outputs": [
    {
     "data": {
      "text/plain": [
       "1000"
      ]
     },
     "execution_count": 91,
     "metadata": {},
     "output_type": "execute_result"
    }
   ],
   "source": [
    "np.random.seed(123)\n",
    "N = 1000 # numero de variables que distribuyen como f a generar\n",
    "\n",
    "# Usar func anteriormente definida como acep_rechazo_aleatorias que genera variables aleatorias\n",
    "var_aleatorias_montecarlo_prices = acep_rechazo_positivos(f,max_precio,N)\n",
    "len(var_aleatorias_montecarlo_prices)"
   ]
  },
  {
   "cell_type": "code",
   "execution_count": 89,
   "metadata": {},
   "outputs": [],
   "source": [
    "#var_aleatorias_montecarlo_prices"
   ]
  },
  {
   "cell_type": "code",
   "execution_count": 100,
   "metadata": {},
   "outputs": [
    {
     "name": "stdout",
     "output_type": "stream",
     "text": [
      "La media de las variables aleatorias es de 1.38125290898988\n"
     ]
    }
   ],
   "source": [
    "print('La media de las variables aleatorias es de', var_aleatorias_montecarlo_prices.mean() )\n"
   ]
  },
  {
   "cell_type": "code",
   "execution_count": 94,
   "metadata": {},
   "outputs": [
    {
     "name": "stdout",
     "output_type": "stream",
     "text": [
      "La media de las variables aleatorias es de 1.4059784097758825\n"
     ]
    }
   ],
   "source": [
    "print('La media real de nuestros datos es de', data['AveragePrice'].mean() )"
   ]
  },
  {
   "cell_type": "code",
   "execution_count": 93,
   "metadata": {
    "scrolled": true
   },
   "outputs": [
    {
     "data": {
      "image/png": "[encoded data removed]",
      "text/plain": [
       "<Figure size 432x288 with 1 Axes>"
      ]
     },
     "metadata": {
      "needs_background": "light"
     },
     "output_type": "display_data"
    }
   ],
   "source": [
    "x = np.arange(0.40,3.50,.10)\n",
    "plt.figure()\n",
    "plt.plot(x,f(x))\n",
    "plt.hist(var_aleatorias_montecarlo_prices, bins = 15, density = True);\n",
    "plt.show()"
   ]
  },
  {
   "cell_type": "code",
   "execution_count": 103,
   "metadata": {},
   "outputs": [
    {
     "name": "stdout",
     "output_type": "stream",
     "text": [
      "Con una confianza de 0.95 la media del numero de positivos por montecarlo crudo  estará en el intervalo t normal,\n",
      " (1.3538741469175464, 1.4086316710622135)\n",
      "Media calculada por montecarlo crudo del numero de positivos 1.38125290898988\n",
      "El porcentaje de error entre la media real y la media estimada con montecarlo fue de 1.7900777348649703 %\n"
     ]
    }
   ],
   "source": [
    "np.random.seed(123)\n",
    "\n",
    "# Nivel de confianza\n",
    "confianza = 0.95\n",
    "X = var_aleatorias_montecarlo_prices\n",
    "\n",
    "i1 = st.norm.interval(confianza, loc=np.mean(X), scale=st.sem(X))\n",
    "\n",
    "media_prices = np.mean(X)\n",
    "\n",
    "\n",
    "print('Con una confianza de %2.2f la media del numero de positivos por montecarlo crudo  estará en el intervalo t normal,\\n %s' %(confianza,i1))\n",
    "print('Media calculada por montecarlo crudo del numero de positivos' ,media_prices)\n",
    "error_positivos = abs(np.array(data['AveragePrice'].mean() - media_prices)/media_prices)\n",
    "print('El porcentaje de error entre la media real y la media estimada con montecarlo fue de', error_positivos*100,'%')"
   ]
  }
 ],
 "metadata": {
  "kernelspec": {
   "display_name": "Python 3",
   "language": "python",
   "name": "python3"
  },
  "language_info": {
   "codemirror_mode": {
    "name": "ipython",
    "version": 3
   },
   "file_extension": ".py",
   "mimetype": "text/x-python",
   "name": "python",
   "nbconvert_exporter": "python",
   "pygments_lexer": "ipython3",
   "version": "3.7.3"
  }
 },
 "nbformat": 4,
 "nbformat_minor": 4
}
