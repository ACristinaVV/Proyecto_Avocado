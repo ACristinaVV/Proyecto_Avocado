{
 "cells": [
  {
   "cell_type": "markdown",
   "metadata": {},
   "source": [
    "### 1.1 Simulación Montecarlo aplicada a las ventas de aguacates.\n",
    "> #### Integrantes:\n",
    "> Espinosa García Lyha   \n",
    "> Navarro Valencia Dayana  \n",
    "> Vazquez Vargas Ana Cristina  \n",
    "\n",
    "### 1.2 Objetivos.\n",
    "> #### 1.1 Objetivo general.\n",
    ">  - Simular a partir de la información obtenida diferentes escenarios relacionados con las ventas de aguacates.\n",
    "\n",
    "> #### 1.2 Objetivos específicos\n",
    ">  - Estimar las ventas por consola en Estados Unidos, Japón y Europa.\n",
    ">  - Conocer cuál es la consola que tiene mayores ventas\n",
    ">  - Analizar los patrones de mercado en los videojuegos\n",
    "\n",
    "\n",
    "### 1.3 Definición del problema.\n",
    "> Se debe describir en una cuartilla máximo cuál es el escenario de negocio que se va a modelar, identificar cuáles son los supuestos que defines en el negocio y cuáles son los \"nodos\" o \"escenarios\" que identificas necesarios simular y porqué. Debes elaborar un diagrama de inicio a fin, identificando los \"nodos\" o \"escenarios\" a simular.\n",
    "\n",
    "El escenario que deseamos hace runa proyección sobre las ventas de aguacates en Estados Unidos. La base de datos con la que contamos nos ofrece información semanal sobre:\n",
    "> Ventas totales \n",
    "> Ventas por tipo de aguacate\n",
    "> Ventas por tipo de bolsas\n",
    "\n",
    "\n",
    "\n",
    "\n",
    "### 1.4 Nodos y variables que se decidieron simular y porqué\n",
    "> En este apartado el objetivo es identificar los problemas que se van a abordar, para examinar la factibilidad y viabilidad de la simulación de los nodos escogidos. Posteriormente se debe de argumentar del porqué de los nodos escogidos.\n",
    "\n",
    "- ¿Cuál es el videojuego más vendido? Queremos conocer cual es el videojuego más relevante en términos de ventas.\n",
    "- ¿Cuál es la consola con mayor número de ventas? Nos interesa conocer cual consola es más popular entre los gamers.\n",
    "- ¿Cuál es la región que consume más videojuegos? Queremos identificar donde se encuentra la mayor cantidad de consumidores.\n",
    "- ¿Cuál es la región que consume menos? Al mismo tiempo identificar en dónde no hay mucho mercado.\n",
    "- ¿Cuál es el género más vendido? Identicar la temática que recauda más dinero con el fin de conocer el mercado potencial."
   ]
  }
 ],
 "metadata": {
  "kernelspec": {
   "display_name": "Python 3",
   "language": "python",
   "name": "python3"
  },
  "language_info": {
   "codemirror_mode": {
    "name": "ipython",
    "version": 3
   },
   "file_extension": ".py",
   "mimetype": "text/x-python",
   "name": "python",
   "nbconvert_exporter": "python",
   "pygments_lexer": "ipython3",
   "version": "3.7.2"
  }
 },
 "nbformat": 4,
 "nbformat_minor": 4
}
