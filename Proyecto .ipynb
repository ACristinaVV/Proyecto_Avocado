{
 "cells": [
  {
   "cell_type": "markdown",
   "metadata": {},
   "source": [
    "# <center> ![Proyecto SPF](avocado.jpg) Proyecto SPF\n",
    "    "
   ]
  },
  {
   "cell_type": "markdown",
   "metadata": {},
   "source": [
    "### 1.1 Simulación Montecarlo aplicada a las ventas de aguacates.\n",
    "> #### Integrantes:\n",
    "> Espinosa García Lyha   \n",
    "> Navarro Valencia Dayana  \n",
    "> Vazquez Vargas Ana Cristina  \n",
    "\n",
    "### 1.2 Objetivos.\n",
    "> #### 1.1 Objetivo general.\n",
    ">  - Proyectar los diferentes escenarios relacionados con las ventas de aguacates. \n",
    "\n",
    "> #### 1.2 Objetivos específicos\n",
    ">  - Aplicar simulación montecarlo para conocer la mejor temporada para vender aguacates.   \n",
    ">  - Encontrar por medio de las simulaciones el tipo de aguacate que es más conveniente vender.   \n",
    ">  - Estimar y proyectar el precio promedio de una pieza de aguacate.   \n",
    ">  - Analizar el comportamiento de las ventas totales.  \n",
    "\n",
    "\n",
    "### 1.3 Definición del problema.\n",
    "Considerada la estrella del campo mexicano, el aguacate es uno de los frutos preferidos de la cocina internacional. Países como Estados Unidos, Canadá, China y la Unión Europea son grandes consumidores de aguacate. Para estimar la importancia en el mundo de este alimento, el Servicio Nacional de Sanidad, Inocuidad y Calidad Agroalimentaria (SENASICA) estima que en el mundo 1 de cada 3 aguacates se cosechan en México.\n",
    "\n",
    "Los productores nacionales apuestan al mercado americano ya que es su principal comprador a nivel internacional. Es por esto que la base de datos que encontramos nos pareció interesante y de gran utilidad puesto que en base a ella simularemos el comportamiento de este producto en el mercado, y que mejor referente que su principal consumidor.  \n",
    "\n",
    "El escenario que deseamos proyectar es el de las ventas de aguacates en Estados Unidos. La base de datos con la que contamos nos ofrece información semanal sobre:\n",
    "> - Ventas totales: la cantidad de piezas de aguacate vendidas en total.   \n",
    "> - Ventas por tipo de aguacate:  la cantidad de piezas vendidas por cada tipo de aguacate (4046 - Small Hass, 4225 - Large Hass, 4770 - Extra large Hass)   \n",
    "> - Ventas por tipo de bolsas: el total de bolsas vendidas (Small / Large)   \n",
    "> - Precio promedio: el precio promedio por pieza de aguacate (sin importar el tipo)    \n",
    "> - Fecha: observación por semana   \n",
    "> - Año: año de la observación    \n",
    "> - Región: ciudad o región de la observación   \n",
    "\n",
    "Nuestro propósito con este proyecto es analizar la base de datos, obtener su función de probabilidad, aplicar simulación montecarlo y dar una opinión informada a un inversionista en este negocio. \n",
    "Las variables (columnas) que utilizaremos para este estudio son: Fecha, Ventas totales, Precio promedio, Ventas por tipo. \n",
    "\n",
    "\n",
    "\n",
    "### 1.4 Nodos y variables que se decidieron simular y porqué\n",
    "Para este proyecto en particular los nodos que hemos decidido simular son: \n",
    "> - Ventas totales   \n",
    "> - Temporalidad   \n",
    "> - Precio promedio  \n",
    "> - Clasificación     \n",
    "\n",
    "El objetivo de simular las **ventas totales** es analizar como fluctua el volumen de ventas. Lo que esperamos es proyectar las ventas de aguacate para el próximo año. \n",
    "\n",
    "Al simular la **temporalidad** podemos obtener cual es la temporada en la que se espera mayor cantidad de ventas totales \n",
    "\n",
    "Decidimos simular el **precio promedio** debido a que de esta manera podemos conocer su comportamiento, que tan volátil es, así como cual es la probabilidad de que el precio del aguacate suba a más de 2 dólares por unidad\n",
    "\n",
    "Con la simulaciones de la **clasificación** de los aguacates buscamos encontrar cuál tipo es el que se espera que tenga mayores ventas, esto nos sirve para identificar el mercado más próspero.    \n",
    "\n",
    "#### Esquema \n"
   ]
  },
  {
   "cell_type": "markdown",
   "metadata": {},
   "source": [
    "<img src=\"AVOCADO.png\">"
   ]
  }
 ],
 "metadata": {
  "kernelspec": {
   "display_name": "Python 3",
   "language": "python",
   "name": "python3"
  },
  "language_info": {
   "codemirror_mode": {
    "name": "ipython",
    "version": 3
   },
   "file_extension": ".py",
   "mimetype": "text/x-python",
   "name": "python",
   "nbconvert_exporter": "python",
   "pygments_lexer": "ipython3",
   "version": "3.7.3"
  }
 },
 "nbformat": 4,
 "nbformat_minor": 4
}
